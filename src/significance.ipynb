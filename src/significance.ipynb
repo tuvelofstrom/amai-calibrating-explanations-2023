{
 "cells": [
  {
   "cell_type": "code",
   "execution_count": 13,
   "metadata": {},
   "outputs": [
    {
     "data": {
      "text/plain": [
       "Index(['#instances', '#features', 'inst/feat', 'maj/min', 'RF_UC', 'RF_PS',\n",
       "       'RF_VA', 'X_UC', 'X_PS', 'X_VA', 'RF_UC.1', 'RF_PS.1', 'RF_VA.1',\n",
       "       'X_UC.1', 'X_PS.1', 'X_VA.1', 'RF_UC.2', 'RF_PS.2', 'RF_VA.2', 'X_UC.2',\n",
       "       'X_PS.2', 'X_VA.2', 'RF_UC.3', 'RF_PS.3', 'RF_VA.3', 'X_UC.3', 'X_PS.3',\n",
       "       'X_VA.3', 'RF_UC.4', 'RF_PS.4', 'RF_VA.4', 'X_UC.4', 'X_PS.4', 'X_VA.4',\n",
       "       'RF_UC.5', 'RF_PS.5', 'RF_VA.5', 'X_UC.5', 'X_PS.5', 'X_VA.5',\n",
       "       'RF_UC.6', 'RF_PS.6', 'RF_VA.6', 'X_UC.6', 'X_PS.6', 'X_VA.6',\n",
       "       'RF_UC.7', 'RF_PS.7', 'RF_VA.7', 'X_UC.7', 'X_PS.7', 'X_VA.7',\n",
       "       'Unnamed: 53', 'Unnamed: 54', 'Unnamed: 55', 'Unnamed: 56',\n",
       "       'Unnamed: 57', 'Unnamed: 58', 'Unnamed: 59', 'Unnamed: 60',\n",
       "       'Unnamed: 61', 'Unnamed: 62', 'Unnamed: 63'],\n",
       "      dtype='object')"
      ]
     },
     "execution_count": 13,
     "metadata": {},
     "output_type": "execute_result"
    }
   ],
   "source": [
    "import pandas as pd\n",
    "\n",
    "# Path: src\\significance.ipynb\n",
    "\n",
    "dataset = pd.read_csv('../results/experiments.csv', delimiter=';', header=0, index_col=0)\n",
    "dataset.columns"
   ]
  },
  {
   "cell_type": "code",
   "execution_count": 24,
   "metadata": {},
   "outputs": [
    {
     "data": {
      "text/plain": [
       "{'acc': {'RF': [0.21998637914657593, 0.023649930953979492],\n",
       "  'xGB': [0.3154144478142874, 0.6915188431739807]},\n",
       " 'AUC': {'RF': [0.006633557939705239, 5.3882598876953125e-05],\n",
       "  'xGB': [4.172325134277344e-07, 0.0017537222408484075]},\n",
       " 'ECE': {'RF': [0.2002161741256714, 0.20993918180465698],\n",
       "  'xGB': [4.172325134277344e-07, 3.527453036695768e-05]},\n",
       " 'Log': {'RF': [0.17295855283737183, 0.24718988184430302],\n",
       "  'xGB': [8.165836334228516e-06, 1.7881393432617188e-07]},\n",
       " 'ECE_top': {'RF': [0.1530645610410365, 0.7860507791344753],\n",
       "  'xGB': [0.0067255496978759766, 0.00032907724380493164]},\n",
       " 'ECE_all': {'RF': [0.312333345413208, 0.8638867905449266],\n",
       "  'xGB': [1.1324882507324219e-06, 5.3882598876953125e-05]},\n",
       " 'Log_top': {'RF': [0.09031611680984497, 0.2872292995452881],\n",
       "  'xGB': [1.1324882507324219e-06, 5.960464477539063e-08]},\n",
       " 'Log_all': {'RF': [0.18172985315322876, 0.40729909606029113],\n",
       "  'xGB': [2.669149803181262e-05, 2.980232238769531e-07]}}"
      ]
     },
     "execution_count": 24,
     "metadata": {},
     "output_type": "execute_result"
    }
   ],
   "source": [
    "from scipy.stats import wilcoxon\n",
    "\n",
    "result = {'acc':{'RF':[],'xGB':[],}, 'AUC':{'RF':[],'xGB':[],}, 'ECE':{'RF':[],'xGB':[],}, 'Log':{'RF':[],'xGB':[],}, 'ECE_top':{'RF':[],'xGB':[],}, 'ECE_all':{'RF':[],'xGB':[],}, 'Log_top':{'RF':[],'xGB':[],}, 'Log_all':{'RF':[],'xGB':[],}}\n",
    "\n",
    "result['acc']['RF'].append(wilcoxon(dataset['RF_UC'], dataset['RF_PS']).pvalue)\n",
    "result['acc']['RF'].append(wilcoxon(dataset['RF_UC'], dataset['RF_VA']).pvalue)\n",
    "result['acc']['xGB'].append(wilcoxon(dataset['X_UC'], dataset['X_PS']).pvalue)\n",
    "result['acc']['xGB'].append(wilcoxon(dataset['X_UC'], dataset['X_VA']).pvalue)\n",
    "result['AUC']['RF'].append(wilcoxon(dataset['RF_UC.1'], dataset['RF_PS.1']).pvalue)\n",
    "result['AUC']['RF'].append(wilcoxon(dataset['RF_UC.1'], dataset['RF_VA.1']).pvalue)\n",
    "result['AUC']['xGB'].append(wilcoxon(dataset['X_UC.1'], dataset['X_PS.1']).pvalue)\n",
    "result['AUC']['xGB'].append(wilcoxon(dataset['X_UC.1'], dataset['X_VA.1']).pvalue)\n",
    "result['ECE']['RF'].append(wilcoxon(dataset['RF_UC.2'], dataset['RF_PS.2']).pvalue)\n",
    "result['ECE']['RF'].append(wilcoxon(dataset['RF_UC.2'], dataset['RF_VA.2']).pvalue)\n",
    "result['ECE']['xGB'].append(wilcoxon(dataset['X_UC.2'], dataset['X_PS.2']).pvalue)\n",
    "result['ECE']['xGB'].append(wilcoxon(dataset['X_UC.2'], dataset['X_VA.2']).pvalue)\n",
    "result['Log']['RF'].append(wilcoxon(dataset['RF_UC.3'], dataset['RF_PS.3']).pvalue)\n",
    "result['Log']['RF'].append(wilcoxon(dataset['RF_UC.3'], dataset['RF_VA.3']).pvalue)\n",
    "result['Log']['xGB'].append(wilcoxon(dataset['X_UC.3'], dataset['X_PS.3']).pvalue)\n",
    "result['Log']['xGB'].append(wilcoxon(dataset['X_UC.3'], dataset['X_VA.3']).pvalue)\n",
    "result['ECE_top']['RF'].append(wilcoxon(dataset['RF_UC.4'], dataset['RF_PS.4']).pvalue)\n",
    "result['ECE_top']['RF'].append(wilcoxon(dataset['RF_UC.4'], dataset['RF_VA.4']).pvalue)\n",
    "result['ECE_top']['xGB'].append(wilcoxon(dataset['X_UC.4'], dataset['X_PS.4']).pvalue)\n",
    "result['ECE_top']['xGB'].append(wilcoxon(dataset['X_UC.4'], dataset['X_VA.4']).pvalue)\n",
    "result['ECE_all']['RF'].append(wilcoxon(dataset['RF_UC.5'], dataset['RF_PS.5']).pvalue)\n",
    "result['ECE_all']['RF'].append(wilcoxon(dataset['RF_UC.5'], dataset['RF_VA.5']).pvalue)\n",
    "result['ECE_all']['xGB'].append(wilcoxon(dataset['X_UC.5'], dataset['X_PS.5']).pvalue)\n",
    "result['ECE_all']['xGB'].append(wilcoxon(dataset['X_UC.5'], dataset['X_VA.5']).pvalue)\n",
    "result['Log_top']['RF'].append(wilcoxon(dataset['RF_UC.6'], dataset['RF_PS.6']).pvalue)\n",
    "result['Log_top']['RF'].append(wilcoxon(dataset['RF_UC.6'], dataset['RF_VA.6']).pvalue)\n",
    "result['Log_top']['xGB'].append(wilcoxon(dataset['X_UC.6'], dataset['X_PS.6']).pvalue)\n",
    "result['Log_top']['xGB'].append(wilcoxon(dataset['X_UC.6'], dataset['X_VA.6']).pvalue)\n",
    "result['Log_all']['RF'].append(wilcoxon(dataset['RF_UC.7'], dataset['RF_PS.7']).pvalue)\n",
    "result['Log_all']['RF'].append(wilcoxon(dataset['RF_UC.7'], dataset['RF_VA.7']).pvalue)\n",
    "result['Log_all']['xGB'].append(wilcoxon(dataset['X_UC.7'], dataset['X_PS.7']).pvalue)\n",
    "result['Log_all']['xGB'].append(wilcoxon(dataset['X_UC.7'], dataset['X_VA.7']).pvalue)\n",
    "result"
   ]
  }
 ],
 "metadata": {
  "kernelspec": {
   "display_name": "cp",
   "language": "python",
   "name": "python3"
  },
  "language_info": {
   "codemirror_mode": {
    "name": "ipython",
    "version": 3
   },
   "file_extension": ".py",
   "mimetype": "text/x-python",
   "name": "python",
   "nbconvert_exporter": "python",
   "pygments_lexer": "ipython3",
   "version": "3.9.7"
  },
  "orig_nbformat": 4,
  "vscode": {
   "interpreter": {
    "hash": "168dd73c7a7b76a0355e35f33a90e68c167b1dbb1e524891be00dd5c7b8524eb"
   }
  }
 },
 "nbformat": 4,
 "nbformat_minor": 2
}
